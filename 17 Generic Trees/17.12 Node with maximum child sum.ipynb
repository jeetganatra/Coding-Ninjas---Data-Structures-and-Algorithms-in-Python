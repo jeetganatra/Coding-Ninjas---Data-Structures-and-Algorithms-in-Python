class treeNode:
    def __init__(self, data):
        self.data = data
        self.children = []

import queue

def maxSumNode(tree):
    if tree is None:
        return

    q = queue.Queue()
    q.put(tree)
    
    max_sum = -10000000
    max_sum_node = tree

    while not q.empty():
        current_node = q.get()
        x = 0
        for child in current_node.children:
            q.put(child)
            x += child.data
        if current_node.children and max_sum < x:
            max_sum = x
            max_sum_node = current_node

    return max_sum_node

def createLevelWiseTree(arr):
    root = treeNode(int(arr[0]))
    q = [root]
    size = len(arr)
    i = 1

    while i < size:
        parent = q.pop(0)
        childCount = int(arr[i])
        i += 1

        for j in range(0, childCount):
            temp = treeNode(int(arr[i + j]))
            parent.children.append(temp)
            q.append(temp)

        i += childCount

    return root

# Main
arr = list(int(x) for x in input().strip().split(' '))
tree = createLevelWiseTree(arr)
temp = maxSumNode(tree)
print(temp.data)
