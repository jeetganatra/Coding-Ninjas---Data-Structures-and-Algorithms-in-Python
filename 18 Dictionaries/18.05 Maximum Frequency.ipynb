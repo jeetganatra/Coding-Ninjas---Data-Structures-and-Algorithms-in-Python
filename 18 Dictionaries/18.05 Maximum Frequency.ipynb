{
 "cells": [
  {
   "cell_type": "code",
   "execution_count": 31,
   "metadata": {},
   "outputs": [
    {
     "name": "stdout",
     "output_type": "stream",
     "text": [
      "3\n",
      "1 4 5\n",
      "1\n"
     ]
    }
   ],
   "source": [
    "def maxFreq(l):\n",
    "    d = dict()\n",
    "    for i in l:\n",
    "        if i in d:\n",
    "            d[i] = d.get(i, 0) + 1\n",
    "        else:\n",
    "            d[i] = 1\n",
    "    max = -9999\n",
    "    num = -1\n",
    "    for x in l:\n",
    "        if d[x] > max:\n",
    "            max = d[x]\n",
    "            num = x        \n",
    "            \n",
    "    return num\n",
    "        \n",
    "    \n",
    "n=int(input())\n",
    "l=list(int(i) for i in input().strip().split(' ')[:n])\n",
    "print(maxFreq(l))\n"
   ]
  }
 ],
 "metadata": {
  "kernelspec": {
   "display_name": "Python 3",
   "language": "python",
   "name": "python3"
  },
  "language_info": {
   "codemirror_mode": {
    "name": "ipython",
    "version": 3
   },
   "file_extension": ".py",
   "mimetype": "text/x-python",
   "name": "python",
   "nbconvert_exporter": "python",
   "pygments_lexer": "ipython3",
   "version": "3.7.3"
  }
 },
 "nbformat": 4,
 "nbformat_minor": 2
}
